{
 "cells": [
  {
   "cell_type": "markdown",
   "metadata": {},
   "source": [
    "# Tensorflow 2.0 GPU vs CPU Performance"
   ]
  },
  {
   "cell_type": "code",
   "execution_count": 1,
   "metadata": {},
   "outputs": [],
   "source": [
    "# conda activate tensorflow_v2_gpu\n",
    "\n",
    "# tensorboard            2.0.2\n",
    "# tensorboard-plugin-wit 1.8.0\n",
    "# tensorflow             2.4.1\n",
    "# tensorflow-estimator   2.0.1\n",
    "# tensorflow-gpu         2.0.0"
   ]
  },
  {
   "cell_type": "code",
   "execution_count": 1,
   "metadata": {},
   "outputs": [
    {
     "name": "stdout",
     "output_type": "stream",
     "text": [
      "2.0.0\n"
     ]
    },
    {
     "data": {
      "text/plain": [
       "[PhysicalDevice(name='/physical_device:CPU:0', device_type='CPU'),\n",
       " PhysicalDevice(name='/physical_device:GPU:0', device_type='GPU')]"
      ]
     },
     "execution_count": 1,
     "metadata": {},
     "output_type": "execute_result"
    }
   ],
   "source": [
    "import tensorflow as tf\n",
    "\n",
    "print(tf.__version__)\n",
    "\n",
    "tf.config.experimental.list_physical_devices(device_type=None)"
   ]
  },
  {
   "cell_type": "code",
   "execution_count": 2,
   "metadata": {},
   "outputs": [
    {
     "name": "stdout",
     "output_type": "stream",
     "text": [
      "1 Physical GPUs, 1 Logical GPUs\n"
     ]
    }
   ],
   "source": [
    "gpus = tf.config.experimental.list_physical_devices('GPU')\n",
    "if gpus:\n",
    "  try:\n",
    "    # Currently, memory growth needs to be the same across GPUs\n",
    "    for gpu in gpus:\n",
    "      tf.config.experimental.set_memory_growth(gpu, True)\n",
    "    logical_gpus = tf.config.experimental.list_logical_devices('GPU')\n",
    "    print(len(gpus), \"Physical GPUs,\", len(logical_gpus), \"Logical GPUs\")\n",
    "  except RuntimeError as e:\n",
    "    # Memory growth must be set before GPUs have been initialized\n",
    "    print(e)"
   ]
  },
  {
   "cell_type": "code",
   "execution_count": 3,
   "metadata": {},
   "outputs": [
    {
     "name": "stdout",
     "output_type": "stream",
     "text": [
      "1 Physical GPUs, 1 Logical GPU\n"
     ]
    }
   ],
   "source": [
    "gpus = tf.config.experimental.list_physical_devices('GPU')\n",
    "if gpus:\n",
    "  # Restrict TensorFlow to only use the first GPU\n",
    "  try:\n",
    "    tf.config.experimental.set_visible_devices(gpus[0], 'GPU')\n",
    "    logical_gpus = tf.config.experimental.list_logical_devices('GPU')\n",
    "    print(len(gpus), \"Physical GPUs,\", len(logical_gpus), \"Logical GPU\")\n",
    "  except RuntimeError as e:\n",
    "    # Visible devices must be set before GPUs have been initialized\n",
    "    print(e)"
   ]
  },
  {
   "cell_type": "code",
   "execution_count": 4,
   "metadata": {},
   "outputs": [
    {
     "name": "stderr",
     "output_type": "stream",
     "text": [
      "Using TensorFlow backend.\n"
     ]
    }
   ],
   "source": [
    "import numpy as np                                \n",
    "import matplotlib.pyplot as plt\n",
    "import keras as k\n",
    "# from tensorflow.examples.tutorials.mnist import input_data\n",
    "from keras.datasets import mnist\n",
    "from keras.models import Sequential\n",
    "from keras.layers import Dense, Dropout, Flatten\n",
    "from keras.layers import Conv2D, MaxPooling2D, BatchNormalization\n",
    "from keras.optimizers import SGD, Adam\n",
    "from keras.models import load_model\n",
    "from keras import backend as K\n",
    "import time"
   ]
  },
  {
   "cell_type": "code",
   "execution_count": 5,
   "metadata": {},
   "outputs": [
    {
     "name": "stdout",
     "output_type": "stream",
     "text": [
      "counts of x_train : 60000, y_train : 60000, x_test : 10000, y_test : 10000\n"
     ]
    }
   ],
   "source": [
    "#data preprocessing\n",
    "(x_train, y_train), (x_test, y_test) = mnist.load_data()\n",
    "img_rows, img_cols = 28,28\n",
    "x_train = x_train.reshape(x_train.shape[0], img_rows, img_cols, 1)\n",
    "x_test = x_test.reshape(x_test.shape[0], img_rows, img_cols, 1)\n",
    "input_shape = (img_rows, img_cols, 1)\n",
    "x_test=x_test.astype('float32')\n",
    "x_train=x_train.astype('float32')\n",
    "mean=np.mean(x_train)\n",
    "std=np.std(x_train)\n",
    "x_test = (x_test-mean)/std\n",
    "x_train = (x_train-mean)/std\n",
    "\n",
    "print(\"counts of x_train : {}, y_train : {}, x_test : {}, y_test : {}\".format(\n",
    "    len(x_train), len(y_train), len(x_test), len(y_test)))"
   ]
  },
  {
   "cell_type": "code",
   "execution_count": 6,
   "metadata": {},
   "outputs": [
    {
     "name": "stdout",
     "output_type": "stream",
     "text": [
      "counts of x_train : 60000, y_train : 60000, x_test : 10000, y_test : 10000\n"
     ]
    }
   ],
   "source": [
    "#labels\n",
    "num_classes=10\n",
    "y_train = k.utils.to_categorical(y_train, num_classes)\n",
    "y_test = k.utils.to_categorical(y_test, num_classes)\n",
    "print(\"counts of x_train : {}, y_train : {}, x_test : {}, y_test : {}\".format(\n",
    "    len(x_train), len(y_train), len(x_test), len(y_test)))"
   ]
  },
  {
   "cell_type": "markdown",
   "metadata": {},
   "source": [
    "### Tensorflow with CPU only"
   ]
  },
  {
   "cell_type": "code",
   "execution_count": 20,
   "metadata": {},
   "outputs": [
    {
     "name": "stdout",
     "output_type": "stream",
     "text": [
      "WARNING:tensorflow:Large dropout rate: 0.7 (>0.5). In TensorFlow 2.x, dropout() uses dropout rate instead of keep_prob. Please ensure that this is intended.\n"
     ]
    }
   ],
   "source": [
    "num_filter=32\n",
    "num_dense=512\n",
    "drop_dense=0.7\n",
    "ac='relu'\n",
    "learningrate=0.001\n",
    "\n",
    "with tf.device(\"/cpu:0\"):\n",
    "    model = Sequential()\n",
    "\n",
    "    model.add(Conv2D(num_filter, (3, 3), activation=ac, input_shape=(28, 28, 1),padding='same'))\n",
    "    model.add(BatchNormalization(axis=-1))\n",
    "    model.add(Conv2D(num_filter, (3, 3), activation=ac,padding='same'))\n",
    "    model.add(BatchNormalization(axis=-1))\n",
    "    model.add(MaxPooling2D(pool_size=(2, 2)))   # reduces to 14x14x32\n",
    "\n",
    "    model.add(Conv2D(2*num_filter, (3, 3), activation=ac,padding='same'))\n",
    "    model.add(BatchNormalization(axis=-1))\n",
    "    model.add(Conv2D(2*num_filter, (3, 3), activation=ac,padding='same'))\n",
    "    model.add(BatchNormalization(axis=-1))\n",
    "    model.add(MaxPooling2D(pool_size=(2, 2)))   # reduces to 7x7x64 = 3136 neurons\n",
    "\n",
    "    model.add(Flatten())                        \n",
    "    model.add(Dense(num_dense, activation=ac))\n",
    "    model.add(BatchNormalization())\n",
    "    model.add(Dropout(drop_dense))\n",
    "    model.add(Dense(10, activation='softmax'))\n",
    "\n",
    "    adm=Adam(lr=learningrate, beta_1=0.9, beta_2=0.999, epsilon=1e-08)\n",
    "    model.compile(loss='categorical_crossentropy', metrics=['accuracy'],optimizer=adm)\n"
   ]
  },
  {
   "cell_type": "code",
   "execution_count": 21,
   "metadata": {},
   "outputs": [
    {
     "name": "stdout",
     "output_type": "stream",
     "text": [
      "batch size 8\n",
      "Train on 60000 samples, validate on 10000 samples\n",
      "Epoch 1/1\n",
      "60000/60000 [==============================] - 199s 3ms/step - loss: 0.2207 - accuracy: 0.9341 - val_loss: 0.0444 - val_accuracy: 0.9855\n",
      "batch size 16\n",
      "Train on 60000 samples, validate on 10000 samples\n",
      "Epoch 1/1\n",
      "60000/60000 [==============================] - 172s 3ms/step - loss: 0.0694 - accuracy: 0.9794 - val_loss: 0.0286 - val_accuracy: 0.9909\n",
      "batch size 32\n",
      "Train on 60000 samples, validate on 10000 samples\n",
      "Epoch 1/1\n",
      "60000/60000 [==============================] - 141s 2ms/step - loss: 0.0375 - accuracy: 0.9887 - val_loss: 0.0228 - val_accuracy: 0.9926\n",
      "batch size 64\n",
      "Train on 60000 samples, validate on 10000 samples\n",
      "Epoch 1/1\n",
      "60000/60000 [==============================] - 113s 2ms/step - loss: 0.0230 - accuracy: 0.9928 - val_loss: 0.0179 - val_accuracy: 0.9943\n",
      "batch size 128\n",
      "Train on 60000 samples, validate on 10000 samples\n",
      "Epoch 1/1\n",
      "60000/60000 [==============================] - 112s 2ms/step - loss: 0.0139 - accuracy: 0.9959 - val_loss: 0.0133 - val_accuracy: 0.9954\n",
      "batch size 256\n",
      "Train on 60000 samples, validate on 10000 samples\n",
      "Epoch 1/1\n",
      "60000/60000 [==============================] - 115s 2ms/step - loss: 0.0086 - accuracy: 0.9974 - val_loss: 0.0130 - val_accuracy: 0.9953\n",
      "batch size 512\n",
      "Train on 60000 samples, validate on 10000 samples\n",
      "Epoch 1/1\n",
      "60000/60000 [==============================] - 117s 2ms/step - loss: 0.0074 - accuracy: 0.9979 - val_loss: 0.0122 - val_accuracy: 0.9956\n"
     ]
    }
   ],
   "source": [
    "cpu_list=[]\n",
    "batch_sizes = []\n",
    "with tf.device(\"/cpu:0\"):\n",
    "    for i in range(0,7):\n",
    "        k=8*2**i\n",
    "        print(\"batch size \"+str(k))\n",
    "        t1 = time.time()\n",
    "        model.fit(x_train, y_train, batch_size=k, epochs=1, validation_data=(x_test, y_test))\n",
    "        t2 = time.time()\n",
    "        cpu_list.append(int(t2-t1))\n",
    "        batch_sizes.append(k)"
   ]
  },
  {
   "cell_type": "code",
   "execution_count": 22,
   "metadata": {},
   "outputs": [
    {
     "name": "stdout",
     "output_type": "stream",
     "text": [
      "cpu_list :  [201, 172, 141, 113, 111, 115, 117]\n"
     ]
    }
   ],
   "source": [
    "print(\"cpu_list : \", cpu_list)"
   ]
  },
  {
   "cell_type": "markdown",
   "metadata": {},
   "source": [
    "### Tensorflow with GPU only"
   ]
  },
  {
   "cell_type": "code",
   "execution_count": 10,
   "metadata": {},
   "outputs": [
    {
     "name": "stdout",
     "output_type": "stream",
     "text": [
      "WARNING:tensorflow:Large dropout rate: 0.7 (>0.5). In TensorFlow 2.x, dropout() uses dropout rate instead of keep_prob. Please ensure that this is intended.\n"
     ]
    }
   ],
   "source": [
    "#build model\n",
    "\n",
    "num_filter=32\n",
    "num_dense=512\n",
    "drop_dense=0.7\n",
    "ac='relu'\n",
    "learningrate=0.001\n",
    "\n",
    "model = Sequential()\n",
    "\n",
    "model.add(Conv2D(num_filter, (3, 3), activation=ac, input_shape=(28, 28, 1),padding='same'))\n",
    "model.add(BatchNormalization(axis=-1))\n",
    "model.add(Conv2D(num_filter, (3, 3), activation=ac,padding='same'))\n",
    "model.add(BatchNormalization(axis=-1))\n",
    "model.add(MaxPooling2D(pool_size=(2, 2)))   # reduces to 14x14x32\n",
    "\n",
    "model.add(Conv2D(2*num_filter, (3, 3), activation=ac,padding='same'))\n",
    "model.add(BatchNormalization(axis=-1))\n",
    "model.add(Conv2D(2*num_filter, (3, 3), activation=ac,padding='same'))\n",
    "model.add(BatchNormalization(axis=-1))\n",
    "model.add(MaxPooling2D(pool_size=(2, 2)))   # reduces to 7x7x64 = 3136 neurons\n",
    "\n",
    "model.add(Flatten())                        \n",
    "model.add(Dense(num_dense, activation=ac))\n",
    "model.add(BatchNormalization())\n",
    "model.add(Dropout(drop_dense))\n",
    "model.add(Dense(10, activation='softmax'))\n",
    "\n",
    "adm=Adam(lr=learningrate, beta_1=0.9, beta_2=0.999, epsilon=1e-08)\n",
    "model.compile(loss='categorical_crossentropy', metrics=['accuracy'],optimizer=adm)"
   ]
  },
  {
   "cell_type": "markdown",
   "metadata": {},
   "source": [
    "Now we train the model with gpu or cpu for different batch sizes. The larger the batch size, the more the parallelisation of matrix multiplications in the gpu speeds up the training compared to the cpu. The gpu load goes up to 95 percent for batch size 512, with 1.6GB used. Much larger batches require better graphics cards."
   ]
  },
  {
   "cell_type": "code",
   "execution_count": 11,
   "metadata": {
    "scrolled": true
   },
   "outputs": [],
   "source": [
    "# # with GPU (the default in my setup)\n",
    "# for i in range(1,2):\n",
    "#     k=8*2**i\n",
    "#     print(\"batch size \"+str(k))\n",
    "#     model.fit(x_train, y_train, batch_size=k, epochs=1, validation_data=(x_test, y_test))"
   ]
  },
  {
   "cell_type": "code",
   "execution_count": 17,
   "metadata": {},
   "outputs": [
    {
     "name": "stdout",
     "output_type": "stream",
     "text": [
      "gpu_list :  []\n",
      "batch size 8\n",
      "Train on 60000 samples, validate on 10000 samples\n",
      "Epoch 1/1\n",
      "60000/60000 [==============================] - 55s 919us/step - loss: 0.1184 - accuracy: 0.9674 - val_loss: 0.0287 - val_accuracy: 0.9918\n",
      "batch size 16\n",
      "Train on 60000 samples, validate on 10000 samples\n",
      "Epoch 1/1\n",
      "60000/60000 [==============================] - 31s 509us/step - loss: 0.0483 - accuracy: 0.9859 - val_loss: 0.0224 - val_accuracy: 0.9922\n",
      "batch size 32\n",
      "Train on 60000 samples, validate on 10000 samples\n",
      "Epoch 1/1\n",
      "60000/60000 [==============================] - 18s 300us/step - loss: 0.0258 - accuracy: 0.9923 - val_loss: 0.0249 - val_accuracy: 0.9936\n",
      "batch size 64\n",
      "Train on 60000 samples, validate on 10000 samples\n",
      "Epoch 1/1\n",
      "60000/60000 [==============================] - 12s 207us/step - loss: 0.0168 - accuracy: 0.9948 - val_loss: 0.0302 - val_accuracy: 0.9949\n",
      "batch size 128\n",
      "Train on 60000 samples, validate on 10000 samples\n",
      "Epoch 1/1\n",
      "60000/60000 [==============================] - 9s 151us/step - loss: 0.0130 - accuracy: 0.9962 - val_loss: 0.0185 - val_accuracy: 0.9947\n",
      "batch size 256\n",
      "Train on 60000 samples, validate on 10000 samples\n",
      "Epoch 1/1\n",
      "60000/60000 [==============================] - 7s 124us/step - loss: 0.0082 - accuracy: 0.9974 - val_loss: 0.0161 - val_accuracy: 0.9951\n",
      "batch size 512\n",
      "Train on 60000 samples, validate on 10000 samples\n",
      "Epoch 1/1\n",
      "60000/60000 [==============================] - 7s 112us/step - loss: 0.0058 - accuracy: 0.9982 - val_loss: 0.0157 - val_accuracy: 0.9956\n"
     ]
    }
   ],
   "source": [
    "gpu_list=[]\n",
    "batch_sizes = []\n",
    "print(\"gpu_list : \", gpu_list)\n",
    "with tf.device(\"/gpu:0\"):\n",
    "    for i in range(0,7):\n",
    "        k=8*2**i\n",
    "        print(\"batch size \"+str(k))\n",
    "        t1 = time.time()\n",
    "        model.fit(x_train, y_train, batch_size=k, epochs=1, validation_data=(x_test, y_test))\n",
    "        t2 = time.time()\n",
    "        gpu_list.append(int(t2-t1))\n",
    "        batch_sizes.append(k)"
   ]
  },
  {
   "cell_type": "code",
   "execution_count": 18,
   "metadata": {},
   "outputs": [
    {
     "name": "stdout",
     "output_type": "stream",
     "text": [
      "gpu_list :  [55, 30, 18, 12, 9, 7, 6]\n"
     ]
    }
   ],
   "source": [
    "print(\"gpu_list : \", gpu_list)"
   ]
  },
  {
   "cell_type": "markdown",
   "metadata": {},
   "source": [
    "### Test 1 :-  GPU VS CPU "
   ]
  },
  {
   "cell_type": "code",
   "execution_count": 15,
   "metadata": {},
   "outputs": [
    {
     "data": {
      "image/png": "[encoded data removed]",
      "text/plain": [
       "<Figure size 432x288 with 1 Axes>"
      ]
     },
     "metadata": {
      "needs_background": "light"
     },
     "output_type": "display_data"
    }
   ],
   "source": [
    "# plot the comparison. The training with gpu is faster by a factor of about 4-6\n",
    "plt.plot(batch_sizes,gpu_list,'bo')\n",
    "plt.plot(batch_sizes,cpu_list,'ro')\n",
    "plt.plot(batch_sizes,gpu_list,'b--')\n",
    "plt.plot(batch_sizes,cpu_list,'r--')\n",
    "plt.ylabel('training time per epoch (s)')\n",
    "plt.xlabel('batch size')\n",
    "plt.legend(['gpu', 'cpu'], loc='upper right')\n",
    "plt.ylim([0,400])\n",
    "#plt.savefig('CPUvsGPU.png') \n",
    "plt.show()"
   ]
  },
  {
   "cell_type": "markdown",
   "metadata": {},
   "source": [
    "### Test 2 :-  GPU VS CPU "
   ]
  },
  {
   "cell_type": "code",
   "execution_count": 23,
   "metadata": {},
   "outputs": [
    {
     "data": {
      "image/png": "[encoded data removed]",
      "text/plain": [
       "<Figure size 432x288 with 1 Axes>"
      ]
     },
     "metadata": {
      "needs_background": "light"
     },
     "output_type": "display_data"
    }
   ],
   "source": [
    "# plot the comparison. The training with gpu is faster by a factor of about 4-6\n",
    "plt.plot(batch_sizes,gpu_list,'bo')\n",
    "plt.plot(batch_sizes,cpu_list,'ro')\n",
    "plt.plot(batch_sizes,gpu_list,'b--')\n",
    "plt.plot(batch_sizes,cpu_list,'r--')\n",
    "plt.ylabel('training time per epoch (s)')\n",
    "plt.xlabel('batch size')\n",
    "plt.legend(['gpu', 'cpu'], loc='upper right')\n",
    "plt.ylim([0,400])\n",
    "#plt.savefig('CPUvsGPU.png') \n",
    "plt.show()"
   ]
  },
  {
   "cell_type": "code",
   "execution_count": 24,
   "metadata": {},
   "outputs": [
    {
     "data": {
      "text/plain": [
       "[3.6545454545454548,\n",
       " 5.733333333333333,\n",
       " 7.833333333333333,\n",
       " 9.416666666666666,\n",
       " 12.333333333333334,\n",
       " 16.428571428571427,\n",
       " 19.5]"
      ]
     },
     "execution_count": 24,
     "metadata": {},
     "output_type": "execute_result"
    }
   ],
   "source": [
    "ratio_list=[j/k for (j, k) in zip(cpu_list,gpu_list)]\n",
    "ratio_list"
   ]
  },
  {
   "cell_type": "code",
   "execution_count": null,
   "metadata": {
    "collapsed": true
   },
   "outputs": [],
   "source": []
  }
 ],
 "metadata": {
  "kernelspec": {
   "display_name": "Python 3",
   "language": "python",
   "name": "python3"
  },
  "language_info": {
   "codemirror_mode": {
    "name": "ipython",
    "version": 3
   },
   "file_extension": ".py",
   "mimetype": "text/x-python",
   "name": "python",
   "nbconvert_exporter": "python",
   "pygments_lexer": "ipython3",
   "version": "3.6.12"
  }
 },
 "nbformat": 4,
 "nbformat_minor": 2
}
